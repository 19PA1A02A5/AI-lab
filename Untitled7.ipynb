{
  "nbformat": 4,
  "nbformat_minor": 0,
  "metadata": {
    "colab": {
      "name": "Untitled7.ipynb",
      "provenance": [],
      "authorship_tag": "ABX9TyPwy9hPZuMWxhK3kaPQtmap",
      "include_colab_link": true
    },
    "kernelspec": {
      "name": "python3",
      "display_name": "Python 3"
    }
  },
  "cells": [
    {
      "cell_type": "markdown",
      "metadata": {
        "id": "view-in-github",
        "colab_type": "text"
      },
      "source": [
        "<a href=\"https://colab.research.google.com/github/19PA1A02A5/AI-lab/blob/master/Untitled7.ipynb\" target=\"_parent\"><img src=\"https://colab.research.google.com/assets/colab-badge.svg\" alt=\"Open In Colab\"/></a>"
      ]
    },
    {
      "cell_type": "markdown",
      "metadata": {
        "id": "og78YsVk4QmE",
        "colab_type": "text"
      },
      "source": [
        "EXPERIMENT-1 1.NUMPY i.Different ways to create Numpy arrays\n"
      ]
    },
    {
      "cell_type": "code",
      "metadata": {
        "id": "aS-g0POC4SX6",
        "colab_type": "code",
        "colab": {
          "base_uri": "https://localhost:8080/",
          "height": 34
        },
        "outputId": "20aa8cc4-0b89-49c3-fefe-f0e055076984"
      },
      "source": [
        "import numpy as np\n",
        "a = np.array([8,9,10])\n",
        "print (a)"
      ],
      "execution_count": 1,
      "outputs": [
        {
          "output_type": "stream",
          "text": [
            "[ 8  9 10]\n"
          ],
          "name": "stdout"
        }
      ]
    },
    {
      "cell_type": "code",
      "metadata": {
        "id": "GyBoMBwL4et6",
        "colab_type": "code",
        "colab": {
          "base_uri": "https://localhost:8080/",
          "height": 50
        },
        "outputId": "cb88e3f2-90cf-4eef-a1d5-dee99c98b60d"
      },
      "source": [
        "a = np.array([[3,4],[5,6]])\n",
        "print (a)"
      ],
      "execution_count": 2,
      "outputs": [
        {
          "output_type": "stream",
          "text": [
            "[[3 4]\n",
            " [5 6]]\n"
          ],
          "name": "stdout"
        }
      ]
    },
    {
      "cell_type": "markdown",
      "metadata": {
        "id": "hVF33Cl34jpf",
        "colab_type": "text"
      },
      "source": [
        "ii.Add,remove,modify elements in an array"
      ]
    },
    {
      "cell_type": "code",
      "metadata": {
        "id": "1TKNEKTc4r3M",
        "colab_type": "code",
        "colab": {
          "base_uri": "https://localhost:8080/",
          "height": 34
        },
        "outputId": "c3db4924-c799-4460-8997-a90ed772c6c9"
      },
      "source": [
        "newArray = np.append(a,[20,30,40])\n",
        "print(newArray)"
      ],
      "execution_count": 3,
      "outputs": [
        {
          "output_type": "stream",
          "text": [
            "[ 3  4  5  6 20 30 40]\n"
          ],
          "name": "stdout"
        }
      ]
    },
    {
      "cell_type": "code",
      "metadata": {
        "id": "JhLQ91jt5FP-",
        "colab_type": "code",
        "colab": {
          "base_uri": "https://localhost:8080/",
          "height": 34
        },
        "outputId": "988c1f87-0949-412b-880d-fd0a7cf86ad7"
      },
      "source": [
        "import numpy as np\n",
        "l=np.array([1,2,3,4,5])\n",
        "l=np.delete(l,4)\n",
        "print(l)\n"
      ],
      "execution_count": 4,
      "outputs": [
        {
          "output_type": "stream",
          "text": [
            "[1 2 3 4]\n"
          ],
          "name": "stdout"
        }
      ]
    },
    {
      "cell_type": "code",
      "metadata": {
        "id": "bi_69xuQ5XfR",
        "colab_type": "code",
        "colab": {
          "base_uri": "https://localhost:8080/",
          "height": 34
        },
        "outputId": "eda05b64-7ddc-430c-dbb0-2d24ff43c727"
      },
      "source": [
        "b=np.array([2,3,4,1,8,5])\n",
        "b[b<2]=-1\n",
        "print(b)"
      ],
      "execution_count": 5,
      "outputs": [
        {
          "output_type": "stream",
          "text": [
            "[ 2  3  4 -1  8  5]\n"
          ],
          "name": "stdout"
        }
      ]
    },
    {
      "cell_type": "markdown",
      "metadata": {
        "id": "HDgCZGjJ5gn9",
        "colab_type": "text"
      },
      "source": [
        "iii.Arthimetic operations on Numpy array"
      ]
    },
    {
      "cell_type": "code",
      "metadata": {
        "id": "JagGglz05ifX",
        "colab_type": "code",
        "colab": {
          "base_uri": "https://localhost:8080/",
          "height": 1000
        },
        "outputId": "fe1a4d8c-041e-4257-a405-edf0a428df56"
      },
      "source": [
        "import numpy as np\n",
        "v=np.random.random((8,8))\n",
        "n=np.random.random((8,8))\n",
        "sum=np.add(v,n)\n",
        "diff=np.subtract(v,n)\n",
        "prod=np.multiply(v,n)\n",
        "quo=np.divide(v,n)\n",
        "mod=np.mod(v,n)\n",
        "pow=np.power(v,n)\n",
        "print(sum)\n",
        "print(diff)\n",
        "print(prod)\n",
        "print(quo)\n",
        "print(mod)\n",
        "print(pow)"
      ],
      "execution_count": 6,
      "outputs": [
        {
          "output_type": "stream",
          "text": [
            "[[1.19153592 1.37470215 0.43839946 1.39914797 0.50978044 1.33773945\n",
            "  0.44733313 1.4868052 ]\n",
            " [1.1219643  1.1372952  0.41154694 0.5568344  1.28315761 1.43422065\n",
            "  0.07692537 1.04951282]\n",
            " [1.04392203 1.31308402 0.61771783 1.04787857 0.40937506 0.91217095\n",
            "  1.47389713 0.91893988]\n",
            " [1.76904815 1.20141254 1.43977316 0.60076896 0.46442996 1.18982816\n",
            "  0.64676092 0.99366097]\n",
            " [1.73147583 1.60100589 1.015858   0.31468473 0.84321742 1.21093522\n",
            "  0.86705592 1.35732225]\n",
            " [1.18216886 1.20657452 0.32079434 0.71628574 1.24712295 0.84941128\n",
            "  0.95369567 1.45335209]\n",
            " [1.69980857 0.84119377 1.60047381 1.25282448 0.20605235 0.53908211\n",
            "  1.07732011 0.59589264]\n",
            " [1.70840824 0.36810394 0.3701734  0.59724352 0.17378991 0.96582109\n",
            "  1.17273472 0.21935388]]\n",
            "[[ 0.27429676 -0.56053068 -0.18573704  0.3920858   0.45808948  0.46475231\n",
            "  -0.28472609 -0.41990603]\n",
            " [-0.39923381  0.21757312 -0.17821862  0.02577748 -0.18483312  0.3973048\n",
            "   0.04210665 -0.47029252]\n",
            " [ 0.28449065  0.42025532  0.45005559 -0.69513268  0.13376099  0.60892575\n",
            "  -0.02198824  0.83294581]\n",
            " [-0.05214452  0.79065557 -0.03075158 -0.44777022 -0.34195111  0.48560376\n",
            "   0.60953626 -0.69091121]\n",
            " [ 0.18110993 -0.33433037  0.70649293 -0.18685005 -0.46105449  0.2605881\n",
            "  -0.73523509 -0.48560333]\n",
            " [ 0.09078792 -0.18749621 -0.11235568  0.55637384  0.25110053  0.65176551\n",
            "  -0.42098223 -0.11138246]\n",
            " [-0.01158574  0.06747346 -0.0927698   0.27273327 -0.15962134 -0.3737821\n",
            "  -0.77322358  0.40534588]\n",
            " [ 0.14871868 -0.11992822 -0.06515196  0.27974893  0.11519948  0.74391357\n",
            "  -0.33322857  0.13611901]]\n",
            "[[0.33612978 0.39390284 0.03942396 0.45097094 0.01250753 0.39338803\n",
            "  0.0297595  0.50856716]\n",
            " [0.27485406 0.31152558 0.03440225 0.07735002 0.40308254 0.47478444\n",
            "  0.00103614 0.22007553]\n",
            " [0.25220957 0.38689378 0.04475632 0.15371002 0.03742398 0.11531632\n",
            "  0.54297232 0.03766294]\n",
            " [0.78170307 0.20456396 0.51800027 0.04010629 0.02469116 0.29497001\n",
            "  0.01169131 0.12750096]\n",
            " [0.74130194 0.61286077 0.1332088  0.01602838 0.12461109 0.34961449\n",
            "  0.05280384 0.40162827]\n",
            " [0.34732019 0.35516681 0.0225713  0.05087835 0.37306604 0.07417531\n",
            "  0.18307735 0.52495656]\n",
            " [0.72230373 0.17576357 0.63822755 0.37379644 0.00424465 0.03772412\n",
            "  0.14068598 0.04769569]\n",
            " [0.72413536 0.03027943 0.03319589 0.06961009 0.004233   0.09485075\n",
            "  0.31606636 0.00739694]]\n",
            "[[ 1.59809212  0.42070983  0.40481916  1.77867247 18.72416287  2.06474034\n",
            "   0.22212279  0.55954943]\n",
            " [ 0.47510609  1.47312798  0.39562894  1.09707993  0.74818217  1.76632024\n",
            "   3.41862118  0.38111479]\n",
            " [ 1.74922016  1.94140189  6.36859792  0.20237729  1.97063983  5.01606187\n",
            "   0.97060171 20.37216905]\n",
            " [ 0.94273586  4.84974877  0.95817605  0.1459161   0.15188706  2.37911654\n",
            "  33.74905941  0.17971908]\n",
            " [ 1.23363508  0.65449894  5.56737363  0.25488696  0.29300864  1.54840616\n",
            "   0.08227022  0.4730082 ]\n",
            " [ 1.16637256  0.73100904  0.48121585  7.95850454  1.50420659  7.59528932\n",
            "   0.38751874  0.85763405]\n",
            " [ 0.98646046  1.17441305  0.89042356  1.55654671  0.12697387  0.18107843\n",
            "   0.16432821  5.25455549]\n",
            " [ 1.19070292  0.50852328  0.70067463  2.76222802  4.93236544  7.7047171\n",
            "   0.55745459  4.27072083]]\n",
            "[[0.27429676 0.40708573 0.12633121 0.3920858  0.01871634 0.02825874\n",
            "  0.08130352 0.53344959]\n",
            " [0.36136524 0.21757312 0.11666416 0.02577748 0.54916225 0.3973048\n",
            "  0.00728793 0.28961015]\n",
            " [0.28449065 0.42025532 0.03089998 0.17637295 0.13376099 0.00243534\n",
            "  0.72595445 0.01600217]\n",
            " [0.85845181 0.17452011 0.70451079 0.07649937 0.06123943 0.13349156\n",
            "  0.01394174 0.15137488]\n",
            " [0.18110993 0.63333776 0.08776279 0.06391734 0.19108147 0.2605881\n",
            "  0.06591042 0.43585946]\n",
            " [0.09078792 0.50953915 0.10421933 0.07663814 0.25110053 0.05882821\n",
            "  0.26635672 0.67098482]\n",
            " [0.84411141 0.06747346 0.753852   0.27273327 0.0232155  0.08265001\n",
            "  0.15204827 0.02425236]\n",
            " [0.14871868 0.12408786 0.15251072 0.12100163 0.02731384 0.07819101\n",
            "  0.41975308 0.01126671]]\n",
            "[[0.8671841  0.41910771 0.52433639 0.94600205 0.98141608 0.95562915\n",
            "  0.39908716 0.54931688]\n",
            " [0.46107804 0.83603097 0.53070836 0.72072487 0.6440825  0.95540184\n",
            "  0.95206622 0.38996969]\n",
            " [0.85610231 0.93811689 0.94874992 0.22042519 0.83557319 0.95934793\n",
            "  0.78698813 0.99432104]\n",
            " [0.87024585 0.99918419 0.77296088 0.25985781 0.32429662 0.93955334\n",
            "  0.99138301 0.20387818]\n",
            " [0.96594948 0.64276006 0.97714679 0.50175085 0.33982614 0.86432489\n",
            "  0.1131906  0.46523373]\n",
            " [0.78149574 0.62501783 0.61279066 0.96450221 0.86600979 0.97204607\n",
            "  0.40280866 0.73185607]\n",
            " [0.86500874 0.7369737  0.78724105 0.8757295  0.50257863 0.32047555\n",
            "  0.17502919 0.93620524]\n",
            " [0.94383925 0.60097357 0.66410227 0.87733014 0.94490399 0.98275193\n",
            "  0.52014128 0.93063123]]\n"
          ],
          "name": "stdout"
        }
      ]
    },
    {
      "cell_type": "markdown",
      "metadata": {
        "id": "Gu7DhTZm5-3-",
        "colab_type": "text"
      },
      "source": [
        "iv.Slicing and iterating of numpy arrays"
      ]
    },
    {
      "cell_type": "markdown",
      "metadata": {
        "id": "WNzV7AFX6BD9",
        "colab_type": "text"
      },
      "source": [
        "slicing"
      ]
    },
    {
      "cell_type": "code",
      "metadata": {
        "id": "8yXMMdhd6DKJ",
        "colab_type": "code",
        "colab": {
          "base_uri": "https://localhost:8080/",
          "height": 34
        },
        "outputId": "60a3821d-3d84-4cfe-c260-d85b164fa277"
      },
      "source": [
        "import numpy as np\n",
        "arr=np.array([2,3,4,5,6,7])\n",
        "print(arr[1:3])"
      ],
      "execution_count": 8,
      "outputs": [
        {
          "output_type": "stream",
          "text": [
            "[3 4]\n"
          ],
          "name": "stdout"
        }
      ]
    },
    {
      "cell_type": "markdown",
      "metadata": {
        "id": "GJgThsWn6VEI",
        "colab_type": "text"
      },
      "source": [
        "Iterating"
      ]
    },
    {
      "cell_type": "code",
      "metadata": {
        "id": "xzEd4T4T6XMX",
        "colab_type": "code",
        "colab": {
          "base_uri": "https://localhost:8080/",
          "height": 118
        },
        "outputId": "762b7f45-f0c5-4fcf-a59b-d065ec8f80aa"
      },
      "source": [
        "for i in arr:\n",
        " print(i)"
      ],
      "execution_count": 9,
      "outputs": [
        {
          "output_type": "stream",
          "text": [
            "2\n",
            "3\n",
            "4\n",
            "5\n",
            "6\n",
            "7\n"
          ],
          "name": "stdout"
        }
      ]
    },
    {
      "cell_type": "markdown",
      "metadata": {
        "id": "LwYOLcLg6siJ",
        "colab_type": "text"
      },
      "source": [
        "v.Matrix operation on numpy arrays"
      ]
    },
    {
      "cell_type": "code",
      "metadata": {
        "id": "jhxEFN_P6uCG",
        "colab_type": "code",
        "colab": {
          "base_uri": "https://localhost:8080/",
          "height": 118
        },
        "outputId": "496d79b9-906c-4634-93b8-1b0864d3be54"
      },
      "source": [
        "import numpy as np\n",
        "v=np.array([[2,3],[4,5]])\n",
        "i=np.array([[1,2],[6,7]])\n",
        "print(np.add(v,i))\n",
        "print(np.subtract(v,i))\n",
        "print(np.divide(v,i))"
      ],
      "execution_count": 10,
      "outputs": [
        {
          "output_type": "stream",
          "text": [
            "[[ 3  5]\n",
            " [10 12]]\n",
            "[[ 1  1]\n",
            " [-2 -2]]\n",
            "[[2.         1.5       ]\n",
            " [0.66666667 0.71428571]]\n"
          ],
          "name": "stdout"
        }
      ]
    },
    {
      "cell_type": "code",
      "metadata": {
        "id": "YxqNinD164GY",
        "colab_type": "code",
        "colab": {}
      },
      "source": [
        ""
      ],
      "execution_count": null,
      "outputs": []
    }
  ]
}